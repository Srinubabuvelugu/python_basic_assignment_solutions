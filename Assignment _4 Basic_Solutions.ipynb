{
 "cells": [
  {
   "cell_type": "markdown",
   "id": "afe7d410-f1f8-44b7-9985-bbb1cec1cc33",
   "metadata": {},
   "source": [
    "#### 1. What exactly is []?\n",
    "Ans: The empty list can represendted as [], and the empty list does not contains even single element. so, lentrth of the empty list zero."
   ]
  },
  {
   "cell_type": "markdown",
   "id": "b0357e00-590c-4d9a-b89c-5c16eac4735e",
   "metadata": {},
   "source": [
    "#### 2.In a list of values stored in a variable called spam, how would you assign the value 'hello' as the third value? (Assume [2, 4, 6, 8, 10] are in spam.)"
   ]
  },
  {
   "cell_type": "code",
   "execution_count": 1,
   "id": "08b450be-1a8f-438f-9d57-bf8b50c1fb6c",
   "metadata": {},
   "outputs": [
    {
     "name": "stdout",
     "output_type": "stream",
     "text": [
      "[2, 4, 6, 8, 10]\n",
      "[2, 4, 'hello', 8, 10]\n"
     ]
    }
   ],
   "source": [
    "spam=[2,4,6,8,10]\n",
    "print(spam)\n",
    "spam[2]=\"hello\"\n",
    "print(spam)"
   ]
  },
  {
   "cell_type": "markdown",
   "id": "7f1460fe-bd4b-43b7-9c91-49cccf1b1a24",
   "metadata": {},
   "source": [
    "### Let&#39;s pretend the spam includes the list [&#39;a&#39;, &#39;b&#39;, &#39;c&#39;, &#39;d&#39;] for the next three queries."
   ]
  },
  {
   "cell_type": "markdown",
   "id": "8d856bbc-a6ab-4fa1-a664-df4d518970ea",
   "metadata": {},
   "source": [
    "#### 3. What is the value of spam[int(int(&#39;3&#39; * 2) / 11)]?\n",
    "Ans: 'd' (Note that '3' * 2 is the string '33', which is passed to int() before being divided by 11. This eventually evaluates to 3, spam[3] is equal to d.)"
   ]
  },
  {
   "cell_type": "code",
   "execution_count": 2,
   "id": "d7d4e13d-c156-4a2b-933b-335f0726258b",
   "metadata": {},
   "outputs": [
    {
     "name": "stdout",
     "output_type": "stream",
     "text": [
      "spam[int(int('3'*2)//11)] -> d\n"
     ]
    }
   ],
   "source": [
    "spam=['a','b','c','d']\n",
    "print(\"spam[int(int('3'*2)//11)] ->\",spam[int(int('3'*2)//11)])"
   ]
  },
  {
   "cell_type": "markdown",
   "id": "26f19bdb-66c6-4e14-bec2-8e4c8d156deb",
   "metadata": {},
   "source": [
    "#### 4. What is the value of spam[-1]?\n",
    "Ans: To retvive list elemnts by using the positive and negative index values index of spam[-1] represents the last element in the spam list."
   ]
  },
  {
   "cell_type": "code",
   "execution_count": 3,
   "id": "f2637098-d9cf-442c-9013-d6c3d42ac05f",
   "metadata": {},
   "outputs": [
    {
     "name": "stdout",
     "output_type": "stream",
     "text": [
      "spam[-1] ->  d\n"
     ]
    }
   ],
   "source": [
    "spam=['a','b','c','d']\n",
    "print('spam[-1] -> ',spam[-1])"
   ]
  },
  {
   "cell_type": "markdown",
   "id": "ea8ff9b5-5d33-4b3e-b044-c5a8dfc7f8e2",
   "metadata": {},
   "source": [
    "#### 5. What is the value of spam[:2]?\n",
    "Ans: spam[:2] returns all elements in the list spam from 0 to 2 excluding 2."
   ]
  },
  {
   "cell_type": "code",
   "execution_count": 4,
   "id": "909b6fc8-0c7b-4693-b893-acf9c271946b",
   "metadata": {},
   "outputs": [
    {
     "name": "stdout",
     "output_type": "stream",
     "text": [
      "spam[:2] ->  ['a', 'b']\n"
     ]
    }
   ],
   "source": [
    "spam=['a','b','c','d']\n",
    "print('spam[:2] -> ',spam[:2])"
   ]
  },
  {
   "cell_type": "markdown",
   "id": "b114bb19-e4aa-4951-90c9-ec82f5786a7b",
   "metadata": {},
   "source": [
    "### Let&#39;s pretend bacon has the list [3.14, &#39;cat,&#39; 11, &#39;cat,&#39; True] for the next three questions."
   ]
  },
  {
   "cell_type": "markdown",
   "id": "912ca8ea-0f09-477c-aedb-64574f6735b2",
   "metadata": {},
   "source": [
    "#### 6. What is the value of bacon.index(&#39;cat&#39;)?\n",
    "Ans: The index method it returns the index of parameter inside the list method,bacon.index('cat') is 1."
   ]
  },
  {
   "cell_type": "code",
   "execution_count": 5,
   "id": "90baf871-73a0-4bf3-a741-1f488022f345",
   "metadata": {},
   "outputs": [
    {
     "name": "stdout",
     "output_type": "stream",
     "text": [
      "bacon.index('cat') -> 1\n"
     ]
    }
   ],
   "source": [
    "bacon=[3.14,'cat',11,'cat',True]\n",
    "print(\"bacon.index('cat') ->\",bacon.index('cat'))"
   ]
  },
  {
   "cell_type": "markdown",
   "id": "9da62d41-1b23-4d60-966f-236321cda767",
   "metadata": {},
   "source": [
    "#### 7. How does bacon.append(99) change the look of the list value in bacon?\n",
    "Ans: The 'bacon.append(99)' this method 99 adds at end  the  bacon list."
   ]
  },
  {
   "cell_type": "code",
   "execution_count": 6,
   "id": "d6b8fb04-b1e4-4bc5-a9ee-faf9150a8c57",
   "metadata": {},
   "outputs": [
    {
     "name": "stdout",
     "output_type": "stream",
     "text": [
      "[3.14, 'cat', 11, 'cat', True]\n",
      "[3.14, 'cat', 11, 'cat', True, 99]\n"
     ]
    }
   ],
   "source": [
    "print(bacon)\n",
    "bacon.append(99) # appends 99 to the end of the list\n",
    "print(bacon)"
   ]
  },
  {
   "cell_type": "markdown",
   "id": "a649614a-78d2-4d73-88ab-20c6919866aa",
   "metadata": {},
   "source": [
    "#### 8. How does bacon.remove(&#39;cat&#39;) change the look of the list in bacon?\n",
    "Ans: The remove method removes the first occurence of the element in the bacon list."
   ]
  },
  {
   "cell_type": "code",
   "execution_count": 7,
   "id": "92d2786c-c84e-4029-aca9-afb7f66f7bf1",
   "metadata": {},
   "outputs": [
    {
     "name": "stdout",
     "output_type": "stream",
     "text": [
      "[3.14, 'cat', 11, 'cat', True, 99]\n",
      "[3.14, 11, 'cat', True, 99]\n"
     ]
    }
   ],
   "source": [
    "print(bacon)\n",
    "bacon.remove('cat')\n",
    "print(bacon)"
   ]
  },
  {
   "cell_type": "markdown",
   "id": "8cbdb473-2098-4aa6-88c6-9556e2174363",
   "metadata": {},
   "source": [
    "#### 9. What are the list concatenation and list replication operators?\n",
    "Ans: The operator for list concatenation is +, while the operator for replication is *. (This is the same as for strings.)"
   ]
  },
  {
   "cell_type": "code",
   "execution_count": 8,
   "id": "ba4b8a2d-39f8-458b-b1f5-2b1650d4b2d5",
   "metadata": {},
   "outputs": [
    {
     "name": "stdout",
     "output_type": "stream",
     "text": [
      "['a', 'b', 'c', 'd', 'e', 'A', 'B,', 'C']\n",
      "['A', 'B,', 'C', 'A', 'B,', 'C']\n"
     ]
    }
   ],
   "source": [
    "list_1 = ['a','b','c','d','e']\n",
    "list_2 = ['A','B,','C']\n",
    "print(list_1 + list_2) # List Concatenation\n",
    "print(list_2*2) # List Replication"
   ]
  },
  {
   "cell_type": "markdown",
   "id": "f765c815-d1a1-4650-a9e4-fee3e8026935",
   "metadata": {},
   "source": [
    "#### 10.what is the difference between the list method append() and insert()?\n",
    "Ans: The append method is adds the element end of the list and insert() method is insert the element at requeird index place."
   ]
  },
  {
   "cell_type": "code",
   "execution_count": 11,
   "id": "b12b90ee-5731-4d01-984d-8b4f5d06ba0c",
   "metadata": {},
   "outputs": [
    {
     "name": "stdout",
     "output_type": "stream",
     "text": [
      "[3.14, 'cat', 11, 'cat', True]\n",
      "[3.14, 'cat', 11, 'cat', True, 99]\n",
      "[3.14, 'cat', 11, 'hello', 'cat', True, 99]\n"
     ]
    }
   ],
   "source": [
    "bacon=[3.14,'cat',11,'cat',True]\n",
    "print(bacon)\n",
    "bacon.append(99) # appends 99 to the end of the list\n",
    "print(bacon)\n",
    "bacon.insert(3,\"hello\") # hello insert at position 3\n",
    "print(bacon)"
   ]
  },
  {
   "cell_type": "markdown",
   "id": "cc8eed9b-acaf-4272-932c-3ce1e255f4af",
   "metadata": {},
   "source": [
    "#### 11. What are the two methods for removing items from a list?\n",
    "ANs: The del statement and the remove() method are two ways to remove values from a list."
   ]
  },
  {
   "cell_type": "code",
   "execution_count": 12,
   "id": "05463639-e973-4a45-88c5-6de359c3cc65",
   "metadata": {},
   "outputs": [
    {
     "ename": "SyntaxError",
     "evalue": "invalid syntax (359466496.py, line 4)",
     "output_type": "error",
     "traceback": [
      "\u001b[0;36m  Cell \u001b[0;32mIn [12], line 4\u001b[0;36m\u001b[0m\n\u001b[0;31m    list1.del('b')\u001b[0m\n\u001b[0m          ^\u001b[0m\n\u001b[0;31mSyntaxError\u001b[0m\u001b[0;31m:\u001b[0m invalid syntax\n"
     ]
    }
   ],
   "source": [
    "list1 = ['a','b','c','d','e']\n",
    "list1.remove('a')\n",
    "print(list1)\n",
    "list1.del('b')\n",
    "print(list1)"
   ]
  },
  {
   "cell_type": "markdown",
   "id": "4e15e110-262d-410d-973e-cc76067eb240",
   "metadata": {},
   "source": [
    "#### 12. Describe how list values and string values are identical.\n",
    "Ans: Both lists and strings can be passed to len() function, have indexes and slices, be used in for loops, be concatenated or replicated, and be used with the in and not in operators."
   ]
  },
  {
   "cell_type": "markdown",
   "id": "1b7e3b4e-4ffd-41df-a0d4-5ff59b50a3cc",
   "metadata": {},
   "source": [
    "#### 13. What's the difference between tuples and lists?\n",
    "Ans: Lists are Mutable, Indexable and Slicable. they can have values added, removed, or changed. Tuples are Immutable but Indexable and Slicable. the tuple values cannot be changed at all. Also, tuples are represented using parentheses, (), while lists use the square brackets, []."
   ]
  },
  {
   "cell_type": "markdown",
   "id": "3fe5254e-3531-401f-8b63-3884022171a3",
   "metadata": {},
   "source": [
    "#### 14. How do you type a tuple value that only contains the integer 42?\n",
    "Ans: (42,) (The trailing comma is mandatory. otherwise its considered as a int by python Interpreter)"
   ]
  },
  {
   "cell_type": "code",
   "execution_count": 13,
   "id": "476f4e6f-3fe1-4bb9-9e8f-902b19c66581",
   "metadata": {},
   "outputs": [
    {
     "name": "stdout",
     "output_type": "stream",
     "text": [
      "<class 'int'>\n",
      "<class 'tuple'>\n"
     ]
    }
   ],
   "source": [
    "tup1=(42)\n",
    "tup2=(42,)\n",
    "print(type(tup1))\n",
    "print(type(tup2))"
   ]
  },
  {
   "cell_type": "markdown",
   "id": "bef2910b-ea62-441c-a3d4-4f8a3bfd2c1e",
   "metadata": {},
   "source": [
    "#### 15. How do you get a list value's tuple form? How do you get a tuple value's list form?\n",
    "Ans: The tuple() and list() functions, respectively are used to convert a list to tuple and vice versa"
   ]
  },
  {
   "cell_type": "markdown",
   "id": "cf22333a-b78b-4909-b213-508737c681d9",
   "metadata": {},
   "source": [
    "#### 16. Variables that \"contain\" list values are not necessarily lists themselves. Instead, what do they contain?\n",
    "Ans: They contain references to list values."
   ]
  },
  {
   "cell_type": "markdown",
   "id": "677136ce-c961-4b2a-bf34-3ca8ec62f83d",
   "metadata": {},
   "source": [
    "#### 17. How do you distinguish between copy.copy() and copy.deepcopy()?\n",
    "Ans: The copy.copy() function will do a shallow copy of a list, while the copy.deepcopy() function will do a deep copy of a list. That is, only copy.deepcopy() will duplicate any lists inside the list."
   ]
  },
  {
   "cell_type": "code",
   "execution_count": null,
   "id": "46bbec3f-9e13-4ff6-81c6-796e3f117bd4",
   "metadata": {},
   "outputs": [],
   "source": []
  }
 ],
 "metadata": {
  "kernelspec": {
   "display_name": "Python 3 (ipykernel)",
   "language": "python",
   "name": "python3"
  },
  "language_info": {
   "codemirror_mode": {
    "name": "ipython",
    "version": 3
   },
   "file_extension": ".py",
   "mimetype": "text/x-python",
   "name": "python",
   "nbconvert_exporter": "python",
   "pygments_lexer": "ipython3",
   "version": "3.10.6"
  }
 },
 "nbformat": 4,
 "nbformat_minor": 5
}
