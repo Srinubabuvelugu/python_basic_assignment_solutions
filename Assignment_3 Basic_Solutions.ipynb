{
 "cells": [
  {
   "cell_type": "markdown",
   "id": "b1115c14-f445-4df1-9460-7cb6489ad33e",
   "metadata": {},
   "source": [
    "#### 1. Why are functions advantageous to have in your programs?\n",
    "Ans:Functions reduce the need for duplicate code. This makes programs shorter, easier to read, and easier to update. The main advantage of functions is code Reusability.\n",
    "- Divide a complex problem into simpler ones.\n",
    "- Reduces chances of error.\n",
    "- Modifying a program becomes easier by using function"
   ]
  },
  {
   "cell_type": "markdown",
   "id": "b35e850e-caac-4401-9b42-fc8635be4870",
   "metadata": {},
   "source": [
    "#### 2. When does the code in a function run: when it's specified or when it's called?\n",
    "Ans: The function code run, when the function is called, not when the function is specified. When a function is \"called\" the program \"leaves\" the current section of code and begins to execute the first line inside the function."
   ]
  },
  {
   "cell_type": "code",
   "execution_count": 2,
   "id": "9a5427e4-76b5-4b68-9355-0d04f4108a70",
   "metadata": {},
   "outputs": [
    {
     "data": {
      "text/plain": [
       "'srinu babu ineuron student'"
      ]
     },
     "execution_count": 2,
     "metadata": {},
     "output_type": "execute_result"
    }
   ],
   "source": [
    "def function(string):\n",
    "    return string +\" ineuron student\"\n",
    "function(\"srinu babu\")"
   ]
  },
  {
   "cell_type": "markdown",
   "id": "6521d3a2-f46f-44eb-bf59-e3070d5bd71a",
   "metadata": {},
   "source": [
    "#### 3. What statement creates a function?\n",
    "Ans: The \"def\" keyword is creates a function \n",
    "#### syntax of the function"
   ]
  },
  {
   "cell_type": "raw",
   "id": "1a9b7204-790d-4c93-9dd3-88451479dd9d",
   "metadata": {},
   "source": [
    "def function_name(parameter_list):\n",
    "    statement 1\n",
    "    statement 2\n",
    "    -----------\n",
    "    -----------\n",
    "    statement n\n",
    "    return value"
   ]
  },
  {
   "cell_type": "markdown",
   "id": "28b7a934-8044-4a45-9a11-0908a6139f08",
   "metadata": {},
   "source": [
    "#### 4. What is the difference between a function and a function call?\n",
    "Ans: A function is a block of code that does a particular operation and returns a result. It usually accepts inputs as parameters and returns a result. The parameters are not mandatory. A function call is the code used to pass control to a function."
   ]
  },
  {
   "cell_type": "code",
   "execution_count": 4,
   "id": "bedef6a1-cb20-4862-9738-dc4261635ad7",
   "metadata": {},
   "outputs": [
    {
     "data": {
      "text/plain": [
       "111"
      ]
     },
     "execution_count": 4,
     "metadata": {},
     "output_type": "execute_result"
    }
   ],
   "source": [
    "def sum_of_numbers(a,b):\n",
    "    return a+b\n",
    "#function call\n",
    "sum_of_numbers(10,101)"
   ]
  },
  {
   "cell_type": "markdown",
   "id": "80f685de-d2ad-46b4-bc03-c0c8f3957f54",
   "metadata": {},
   "source": [
    "#### 5. How many global scopes are there in a Python program? How many local scopes?\n",
    "Ans: There is one global scope, and a local scope is created whenever a function is called. A variable created inside a function belongs to the local scope of that function, and can only be used inside that function whereas A variable created in the main body of the Python code is a global variable and belongs to the global scope."
   ]
  },
  {
   "cell_type": "code",
   "execution_count": 6,
   "id": "cc397dfa-1751-4633-8f3f-d8f8dac04b6e",
   "metadata": {},
   "outputs": [
    {
     "data": {
      "text/plain": [
       "30"
      ]
     },
     "execution_count": 6,
     "metadata": {},
     "output_type": "execute_result"
    }
   ],
   "source": [
    "#Globle scope\n",
    "a=10\n",
    "def test(x):\n",
    "    #local scope \n",
    "    y=20\n",
    "    return x+y\n",
    "test(a)"
   ]
  },
  {
   "cell_type": "markdown",
   "id": "77faaea2-1c19-4fad-8e94-dc6de2e87045",
   "metadata": {},
   "source": [
    "#### 6. What happens to variables in a local scope when the function call returns?\n",
    "Ans: When a function returns, the local scope is destroyed, and all the variables in it are forgotten. A local variable becomes undefined after the function call completes."
   ]
  },
  {
   "cell_type": "markdown",
   "id": "5371db05-8f8e-475b-bd50-0b53c89eb4a7",
   "metadata": {},
   "source": [
    "#### 7. What is the concept of a return value? Is it possible to have a return value in an expression?\n",
    "Ans: The Python return statement is a key component of functions and methods. We can use the return statement to make functions send Python objects back to the caller code. These objects are known as the function’s return value. A return value is the value that a function call evaluates to."
   ]
  },
  {
   "cell_type": "markdown",
   "id": "c1211b42-b596-4e0f-b72b-fa25933c08e3",
   "metadata": {},
   "source": [
    "#### 8. If a function does not have a return statement, what is the return value of a call to that function?\n",
    "Ans: If there is no return statement for a function, its return value is \"None\". The function always returns None if explicit return is not written."
   ]
  },
  {
   "cell_type": "markdown",
   "id": "4843a65a-c57c-4027-b10a-4ffbf2a9cf5f",
   "metadata": {},
   "source": [
    "#### 9. How do you make a function variable refer to the global variable?\n",
    "Ans: If you want to refer to a global variable in a function, you can use the global keyword to declare which variables are global"
   ]
  },
  {
   "cell_type": "markdown",
   "id": "27dbdbe4-6f72-49f5-85b6-7236fb5f93a6",
   "metadata": {},
   "source": [
    "#### 10. What is the data type of None?\n",
    "Ans: The None data type is \"Nonetype\""
   ]
  },
  {
   "cell_type": "code",
   "execution_count": 7,
   "id": "b17cb4bd-0d79-4ac1-947f-b5ff1bea5cec",
   "metadata": {},
   "outputs": [
    {
     "data": {
      "text/plain": [
       "NoneType"
      ]
     },
     "execution_count": 7,
     "metadata": {},
     "output_type": "execute_result"
    }
   ],
   "source": [
    "type(None)"
   ]
  },
  {
   "cell_type": "markdown",
   "id": "7a26589b-5c8e-439a-ba52-a08bea2360fd",
   "metadata": {},
   "source": [
    "#### 11. What does the sentence import areallyourpetsnamederic do?\n",
    "Ans: That import statement imports a module named areallyourpetsnamederic."
   ]
  },
  {
   "cell_type": "markdown",
   "id": "3440e47a-ef49-4c6e-9c8e-0f86de62f188",
   "metadata": {},
   "source": [
    "#### 12. If you had a bacon() feature in a spam module, what would you call it after importing spam?\n",
    "Ans: This function can be called with spam.bacon()."
   ]
  },
  {
   "cell_type": "markdown",
   "id": "48b11ef3-8aaa-4f8f-b853-4eebacb8f07d",
   "metadata": {},
   "source": [
    "#### 13. What can you do to save a programme from crashing if it encounters an error?\n",
    "Ans: We can place the line of code that might cause an error in a try clause and use except block to handle the error as mentioned."
   ]
  },
  {
   "cell_type": "code",
   "execution_count": 13,
   "id": "2c8698e9-63ed-4573-b2d2-dde39fa67dde",
   "metadata": {},
   "outputs": [
    {
     "name": "stdout",
     "output_type": "stream",
     "text": [
      "9\n"
     ]
    }
   ],
   "source": [
    "x=9\n",
    "try:\n",
    "    print(x)\n",
    "except:\n",
    "    print(\"An exception occurred\")"
   ]
  },
  {
   "cell_type": "code",
   "execution_count": 14,
   "id": "852984fb-8dc7-4c24-a821-2abdcdf34807",
   "metadata": {},
   "outputs": [
    {
     "name": "stdout",
     "output_type": "stream",
     "text": [
      "An exception occurred\n"
     ]
    }
   ],
   "source": [
    "x=9\n",
    "try:\n",
    "    print(y)\n",
    "except:\n",
    "    print(\"An exception occurred\")"
   ]
  },
  {
   "cell_type": "markdown",
   "id": "d2806460-348f-431a-a893-b9996bbcb63e",
   "metadata": {},
   "source": [
    "#### 14. What is the purpose of the try clause? What is the purpose of the except clause?\n",
    "Ans:The code that could potentially cause an error goes in the try clause. The code that executes if an error happens goes in the except clause."
   ]
  },
  {
   "cell_type": "code",
   "execution_count": 16,
   "id": "4b37a848-98f4-4c85-a5b5-e67dad74b155",
   "metadata": {},
   "outputs": [
    {
     "name": "stdout",
     "output_type": "stream",
     "text": [
      "Name Error\n"
     ]
    }
   ],
   "source": [
    "x=999\n",
    "try: print(y)\n",
    "except NameError:\n",
    "    print(\"Name Error\")\n",
    "except: print(\"An exception occurred\")"
   ]
  },
  {
   "cell_type": "code",
   "execution_count": 16,
   "id": "ed9ec3ca",
   "metadata": {},
   "outputs": [
    {
     "name": "stdout",
     "output_type": "stream",
     "text": [
      "Name Error\n"
     ]
    }
   ],
   "source": [
    "x=999\n",
    "try: print(y)\n",
    "except NameError:\n",
    "    print(\"Name Error\")\n",
    "except: print(\"An exception occurred\")"
   ]
  },
  {
   "cell_type": "code",
   "execution_count": null,
   "id": "e43d6996-1d9b-453c-a51c-90a8bd222f11",
   "metadata": {},
   "outputs": [],
   "source": []
  }
 ],
 "metadata": {
  "kernelspec": {
   "display_name": "Python 3 (ipykernel)",
   "language": "python",
   "name": "python3"
  },
  "language_info": {
   "codemirror_mode": {
    "name": "ipython",
    "version": 3
   },
   "file_extension": ".py",
   "mimetype": "text/x-python",
   "name": "python",
   "nbconvert_exporter": "python",
   "pygments_lexer": "ipython3",
   "version": "3.10.6"
  }
 },
 "nbformat": 4,
 "nbformat_minor": 5
}
