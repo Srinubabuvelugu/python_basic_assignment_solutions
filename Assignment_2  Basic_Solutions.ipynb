{
 "cells": [
  {
   "cell_type": "markdown",
   "id": "75eaa348",
   "metadata": {},
   "source": [
    "#### 1.What are the two values of the Boolean data type? How do you write them?\n",
    "Ans: The two values of boolean data types are True and False values. In boolean values starting letter is capital (i.e T and F ) and rest of the thing is lower cases."
   ]
  },
  {
   "cell_type": "code",
   "execution_count": 4,
   "id": "1f34fb66",
   "metadata": {},
   "outputs": [
    {
     "name": "stdout",
     "output_type": "stream",
     "text": [
      "True <class 'bool'>\n",
      "False <class 'bool'>\n"
     ]
    }
   ],
   "source": [
    "a=True\n",
    "b=False\n",
    "print(a,type(a))    \n",
    "print(b,type(b))   \n",
    "    "
   ]
  },
  {
   "cell_type": "markdown",
   "id": "78a96f67",
   "metadata": {},
   "source": [
    "#### 2. What are the three different types of Boolean operators?\n",
    "Ans: the three Boolean operators are |not|, and, or"
   ]
  },
  {
   "cell_type": "code",
   "execution_count": 9,
   "id": "5b0ee2a8",
   "metadata": {},
   "outputs": [
    {
     "name": "stdout",
     "output_type": "stream",
     "text": [
      "False\n",
      "False\n",
      "True\n"
     ]
    }
   ],
   "source": [
    "a,b=1,2\n",
    "print(not a )# Boolean not operator\n",
    "print((a>1) and (b<1)) # Boolean ans operator\n",
    "print((a<1) or (b>1)) # Boolean or operator"
   ]
  },
  {
   "cell_type": "markdown",
   "id": "629b7bf6",
   "metadata": {},
   "source": [
    "#### 3. Make a list of each Boolean operator&#39;s truth tables (i.e. every possible combination of Booleanvalues for the operator and what it evaluate ).\n",
    "Ans: The Truth tables for the boolean tables are as follows:\n",
    "\n",
    "##### Truth Table for and operaotor\n",
    "|ope 1|ope 2|Result|\n",
    "|-----|:-----|:---:|\n",
    "|True |True | True\n",
    "|True |False | False\n",
    "|False |True | False\n",
    "|False |False | False\n",
    " \n",
    "\n",
    "##### Truth Table for or operaotor\n",
    "|ope 1|ope 2|Result|\n",
    "|-----|:-----|:---:|\n",
    "|True |True | True\n",
    "|True |False | True\n",
    "|False |True | True\n",
    "|False |False | False\n",
    "\n",
    "##### Truth Table for not operaotor\n",
    "|ope 1| Result|\n",
    "|----:|----:|\n",
    "|True|Flse|\n",
    "|False|True|"
   ]
  },
  {
   "cell_type": "markdown",
   "id": "684b7c5a",
   "metadata": {},
   "source": [
    "#### 4. What are the values of the following expressions?\n",
    "-  (5 > 4) and (3 == 5)\n",
    "- not (5 > 4)\n",
    "- (5 > 4) or (3 == 5)\n",
    "- not ((5 > 4) or (3 == 5))\n",
    "- (True and True) and (True == False)\n",
    "- (not False) or (not True)"
   ]
  },
  {
   "cell_type": "code",
   "execution_count": 12,
   "id": "abc3242b",
   "metadata": {},
   "outputs": [
    {
     "name": "stdout",
     "output_type": "stream",
     "text": [
      "False\n",
      "False\n",
      "True\n",
      "False\n",
      "False\n",
      "True\n"
     ]
    }
   ],
   "source": [
    "print((5>4)and(3==5)) # False\n",
    "print(not(5>4)) # False\n",
    "print((5>4)or(3==5)) # True\n",
    "print(not((5>4)or(3==5))) # False\n",
    "print((True and True)and(True==False)) # False\n",
    "print((not False)or(not True)) # True"
   ]
  },
  {
   "cell_type": "markdown",
   "id": "dec30a7c",
   "metadata": {},
   "source": [
    "#### 5. What are the six comparison operators?\n",
    "Ans: Ans: The Six comparision operators available in python are:\n",
    "== , != , < , > , <= , =>"
   ]
  },
  {
   "cell_type": "markdown",
   "id": "a4f246bc",
   "metadata": {},
   "source": [
    "#### 6. How do you tell the difference between the equal to and assignment operators?Describe acondition and when you would use one.\n",
    "Ans: \"==\" is the equal to operator that compares two values and evaluates to a Boolean, while \"=\" is that assignment operator that stores a value in a variable."
   ]
  },
  {
   "cell_type": "code",
   "execution_count": 18,
   "id": "13c9f3e9",
   "metadata": {},
   "outputs": [],
   "source": [
    "c=5 # Assigning operator that stores 5 value in a variable a\n",
    "if c==1:#comparing values of a varible value and 1\n",
    "    print(c==1)"
   ]
  },
  {
   "cell_type": "markdown",
   "id": "d0ba38d0",
   "metadata": {},
   "source": [
    "#### 7. Identify the three blocks in this code:\n",
    "\"\"\" spam = 0\n",
    "if spam == 10:\n",
    "print(&#39;eggs&#39;)\n",
    "if spam &gt; 5:\n",
    "print(&#39;bacon&#39;)\n",
    "else:\n",
    "print(&#39;ham&#39;)\n",
    "print(&#39;spam&#39;)\n",
    "print(&#39;spam&#39;)\"\"\"\n",
    "- Ans: In Python, code block refers to a collection of code that is in the same block or indent. This is most commonly found in classes, functions, and loops.\n"
   ]
  },
  {
   "cell_type": "code",
   "execution_count": 19,
   "id": "68105750",
   "metadata": {},
   "outputs": [
    {
     "name": "stdout",
     "output_type": "stream",
     "text": [
      "ham\n",
      "spam\n",
      "spam\n"
     ]
    }
   ],
   "source": [
    "\n",
    "\n",
    "spam = 0  \n",
    "if spam == 10:  \n",
    "    print('eggs')  # block #1\n",
    "if spam > 5:  \n",
    "    print('bacon')  # block #2\n",
    "else:  \n",
    "    print('ham')  # block #3\n",
    "print('spam')  \n",
    "print('spam')"
   ]
  },
  {
   "cell_type": "markdown",
   "id": "eed0059f",
   "metadata": {},
   "source": [
    "#### 8. Write code that prints Hello if 1 is stored in spam, prints Howdy if 2 is stored in spam, and prints Greetings! if anything else is stored in spam."
   ]
  },
  {
   "cell_type": "code",
   "execution_count": 20,
   "id": "bd82d135",
   "metadata": {},
   "outputs": [
    {
     "name": "stdout",
     "output_type": "stream",
     "text": [
      "Hello\n",
      "Howdy\n",
      "Greetings\n"
     ]
    }
   ],
   "source": [
    "def spam_code(spam):\n",
    "    if spam==1:\n",
    "        print('Hello')\n",
    "    elif spam==2:\n",
    "        print('Howdy')\n",
    "    else:\n",
    "        print('Greetings')\n",
    "        \n",
    "spam_code(1) \n",
    "spam_code(2)\n",
    "spam_code(3)"
   ]
  },
  {
   "cell_type": "markdown",
   "id": "37aa7dc6",
   "metadata": {},
   "source": [
    "#### 9.If your programme is stuck in an endless loop, what keys you’ll press?\n",
    "Ans: Press Ctrl-c to stop a program stuck in an infinite loop."
   ]
  },
  {
   "cell_type": "markdown",
   "id": "331383a8",
   "metadata": {},
   "source": [
    "#### 10. How can you tell the difference between break and continue?\n",
    "Ans: The break statement will move the execution outside the loop if break condtion is satisfied. Whereas the continue statement will move the execution to the start of the loop."
   ]
  },
  {
   "cell_type": "markdown",
   "id": "85bd9356",
   "metadata": {},
   "source": [
    "#### 11. In a for loop, what is the difference between range(10), range(0, 10), and range(0, 10, 1)?\n",
    "Ans: The Differences are as follows:\n",
    "\n",
    "- The range(10) call range from 0 to 9 (but not include 10)\n",
    "- The range (0,10) explicitly tells the loop to start at 0\n",
    "- The range(0,10,1) explicitly tells the loop to increase the variable by 1 on each iteration"
   ]
  },
  {
   "cell_type": "markdown",
   "id": "6906e38d",
   "metadata": {},
   "source": [
    "#### 12. Write a short program that prints the numbers 1 to 10 using a for loop. Then write an equivalent program that prints the numbers 1 to 10 using a while loop.\n"
   ]
  },
  {
   "cell_type": "code",
   "execution_count": 21,
   "id": "eb5046ea",
   "metadata": {},
   "outputs": [
    {
     "name": "stdout",
     "output_type": "stream",
     "text": [
      "---------- Using For Loop ----------\n",
      "1 2 3 4 5 6 7 8 9 10 \n",
      "\n",
      "---------- Using While Loop ----------\n",
      "1 2 3 4 5 6 7 8 9 10 "
     ]
    }
   ],
   "source": [
    "print('-'*10,'Using For Loop','-'*10)\n",
    "for i in range(1,11):\n",
    "    print(i, end=\" \")\n",
    "print('\\n')\n",
    "print('-'*10,'Using While Loop','-'*10) \n",
    "i=1\n",
    "while i<=10:\n",
    "    print(i, end=\" \")\n",
    "    i+=1"
   ]
  },
  {
   "cell_type": "markdown",
   "id": "3f60e0ef",
   "metadata": {},
   "source": [
    "#### 13. If you had a function named bacon() inside a module named spam, how would you call it after importing spam?\n",
    "Ans: This function can be called with spam.bacon()"
   ]
  },
  {
   "cell_type": "code",
   "execution_count": null,
   "id": "febc8763",
   "metadata": {},
   "outputs": [],
   "source": []
  }
 ],
 "metadata": {
  "kernelspec": {
   "display_name": "Python 3 (ipykernel)",
   "language": "python",
   "name": "python3"
  },
  "language_info": {
   "codemirror_mode": {
    "name": "ipython",
    "version": 3
   },
   "file_extension": ".py",
   "mimetype": "text/x-python",
   "name": "python",
   "nbconvert_exporter": "python",
   "pygments_lexer": "ipython3",
   "version": "3.10.9"
  }
 },
 "nbformat": 4,
 "nbformat_minor": 5
}
