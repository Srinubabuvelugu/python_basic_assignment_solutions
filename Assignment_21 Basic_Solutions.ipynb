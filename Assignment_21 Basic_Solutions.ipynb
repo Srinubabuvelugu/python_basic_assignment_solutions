{
 "cells": [
  {
   "cell_type": "markdown",
   "id": "27995c62-5efc-4b10-9e4b-d3a0d9fcd431",
   "metadata": {},
   "source": [
    "#### 1. Add the current date to the text file today.txt as a string."
   ]
  },
  {
   "cell_type": "code",
   "execution_count": 1,
   "id": "7ead270d-f345-4f68-855f-e956488206a0",
   "metadata": {},
   "outputs": [
    {
     "name": "stdout",
     "output_type": "stream",
     "text": [
      "08-06-2023\n"
     ]
    }
   ],
   "source": [
    "import datetime\n",
    "# Code to Add current date to the today.txt file\n",
    "file = open('today.txt','w')\n",
    "file.write(datetime.datetime.now().strftime(\"%d-%m-%Y\"))\n",
    "file.close()\n",
    "# Code to Read current date from today.txt file\n",
    "file = open('today.txt','r')\n",
    "print(file.read())\n",
    "file.close()"
   ]
  },
  {
   "cell_type": "markdown",
   "id": "b5cef441-fdba-496b-84e6-c4e14f3f4b5d",
   "metadata": {},
   "source": [
    "#### 2. Read the text file today.txt into the string today_string\n",
    " "
   ]
  },
  {
   "cell_type": "code",
   "execution_count": 2,
   "id": "ef37d293-77fc-43b9-b696-e708c65e58fb",
   "metadata": {},
   "outputs": [
    {
     "name": "stdout",
     "output_type": "stream",
     "text": [
      "08-06-2023\n"
     ]
    }
   ],
   "source": [
    "file = open('today.txt','r')\n",
    "today_string = file.read()\n",
    "print(today_string)"
   ]
  },
  {
   "cell_type": "markdown",
   "id": "fd13136e-0dc4-4634-802f-6e7c13fb82e1",
   "metadata": {},
   "source": [
    "#### 3. Parse the date from today_string."
   ]
  },
  {
   "cell_type": "code",
   "execution_count": 3,
   "id": "388988ce-c76b-4191-8377-ae16a5b80c62",
   "metadata": {},
   "outputs": [
    {
     "name": "stdout",
     "output_type": "stream",
     "text": [
      "2023-06-08 00:00:00\n"
     ]
    }
   ],
   "source": [
    "from datetime import datetime\n",
    "parsed_data = datetime.strptime(today_string, '%d-%m-%Y')\n",
    "print(parsed_data)"
   ]
  },
  {
   "cell_type": "markdown",
   "id": "bdb50c4b-f6f6-4751-ab23-7682e8636321",
   "metadata": {},
   "source": [
    "#### 4. List the files in your current directory"
   ]
  },
  {
   "cell_type": "code",
   "execution_count": 4,
   "id": "a2330688-08b8-4122-adb1-940922f1e52b",
   "metadata": {},
   "outputs": [
    {
     "name": "stdout",
     "output_type": "stream",
     "text": [
      "Assignment_9 Basic_Solutions.ipynb\n",
      "README.md\n",
      "Assignment_5 Basic_Solutions.ipynb\n",
      "text.csv\n",
      "pic2.png\n",
      "Assignment_20 Basic_Solutions.ipynb\n",
      "test.txt\n",
      "sample-code.ipynb\n",
      "zoo.py\n",
      "pic.png\n",
      "student_records.csv\n",
      "Assignment_17 Basic_Solutions.ipynb\n",
      "Assignment_6 Basic_Solutions.ipynb\n",
      "Assignment_8 Basic_Solutions.ipynb\n",
      "Assignment_12 Basic_solutions.ipynb\n",
      "Assignment_10 Basic_Solutions.ipynb\n",
      "Assignment_16 Basic_Solutions.ipynb\n",
      "Assignment_15 BAsic_Solutions.ipynb\n",
      "Assignment_14 Basic_Solutions.ipynb\n",
      "books.db\n",
      "Assignment_7 Basic_Solutions.ipynb\n",
      "Assignment _4 Basic_Solutions.ipynb\n",
      "Untitled.ipynb\n",
      "Assignment_18 Basic_Solutions.ipynb\n",
      "Assignment_11 Basic_Solutions.ipynb\n",
      "today.txt\n",
      "Assignment_13 Basic_Solutions.ipynb\n",
      "books.csv\n",
      "application_log.txt\n",
      "student_records\n",
      "Assignment_21 Basic_Solutions.ipynb\n",
      "Assignment_19 Basic_Solution.ipynb\n",
      "packed-refs\n",
      "HEAD\n",
      "index\n",
      "config\n",
      "description\n",
      "HEAD\n",
      "main\n",
      "HEAD\n",
      "exclude\n",
      "pack-290036e657c294196be1b61a981e44da145e2135.pack\n",
      "pack-290036e657c294196be1b61a981e44da145e2135.idx\n",
      "pre-push.sample\n",
      "prepare-commit-msg.sample\n",
      "applypatch-msg.sample\n",
      "pre-applypatch.sample\n",
      "commit-msg.sample\n",
      "pre-rebase.sample\n",
      "pre-receive.sample\n",
      "update.sample\n",
      "fsmonitor-watchman.sample\n",
      "pre-merge-commit.sample\n",
      "pre-commit.sample\n",
      "push-to-checkout.sample\n",
      "post-update.sample\n",
      "main\n",
      "HEAD\n",
      "zoo.cpython-310.pyc\n",
      "Assignment_10 Basic_Solutions-checkpoint.ipynb\n",
      "Assignment _4 Basic_Solutions-checkpoint.ipynb\n",
      "books-checkpoint.csv\n",
      "student_records-checkpoint\n",
      "Assignment_19 Basic_Solution-checkpoint.ipynb\n",
      "pic-checkpoint.png\n",
      "Assignment_11 Basic_Solutions-checkpoint.ipynb\n",
      "Assignment_5 Basic_Solutions-checkpoint.ipynb\n",
      "Assignment_8 Basic_Solutions-checkpoint.ipynb\n",
      "Assignment_17 Basic_Solutions-checkpoint.ipynb\n",
      "Assignment_14 Basic_Solutions-checkpoint.ipynb\n",
      "Assignment_7 Basic_Solutions-checkpoint.ipynb\n",
      "zoo-checkpoint.py\n",
      "Assignment_18 Basic_Solutions-checkpoint.ipynb\n",
      "Assignment_9 Basic_Solutions-checkpoint.ipynb\n",
      "Assignment_15 BAsic_Solutions-checkpoint.ipynb\n",
      "Assignment_12 Basic_solutions-checkpoint.ipynb\n",
      "pic2-checkpoint.png\n",
      "test-checkpoint.txt\n",
      "Assignment_20 Basic_Solutions-checkpoint.ipynb\n",
      "Assignment_6 Basic_Solutions-checkpoint.ipynb\n",
      "Untitled-checkpoint.ipynb\n",
      "Assignment_13 Basic_Solutions-checkpoint.ipynb\n",
      "Assignment_21 Basic_Solutions-checkpoint.ipynb\n",
      "student_records-checkpoint.csv\n",
      "Assignment_16 Basic_Solutions-checkpoint.ipynb\n"
     ]
    }
   ],
   "source": [
    "import os\n",
    "for folders, subfolders, files in os.walk(os.getcwd()):\n",
    "    for file in files:\n",
    "        print(file)"
   ]
  },
  {
   "cell_type": "markdown",
   "id": "baacc76d-2174-4e56-b517-0b19dd084d32",
   "metadata": {},
   "source": [
    "#### 5. Create a list of all of the files in your parent directory (minimum five files should be available)."
   ]
  },
  {
   "cell_type": "code",
   "execution_count": 5,
   "id": "ea97304f-e9f7-4a01-beb6-ae47ab5d5862",
   "metadata": {},
   "outputs": [
    {
     "data": {
      "text/plain": [
       "['Assignment_9 Basic_Solutions.ipynb',\n",
       " 'README.md',\n",
       " 'Assignment_5 Basic_Solutions.ipynb',\n",
       " 'text.csv',\n",
       " 'pic2.png',\n",
       " 'Assignment_20 Basic_Solutions.ipynb',\n",
       " 'test.txt',\n",
       " 'sample-code.ipynb',\n",
       " 'zoo.py',\n",
       " 'pic.png',\n",
       " 'student_records.csv',\n",
       " 'Assignment_17 Basic_Solutions.ipynb',\n",
       " 'Assignment_6 Basic_Solutions.ipynb',\n",
       " '.git',\n",
       " 'Assignment_8 Basic_Solutions.ipynb',\n",
       " 'Assignment_12 Basic_solutions.ipynb',\n",
       " 'Assignment_10 Basic_Solutions.ipynb',\n",
       " 'Assignment_16 Basic_Solutions.ipynb',\n",
       " 'Assignment_15 BAsic_Solutions.ipynb',\n",
       " 'Assignment_14 Basic_Solutions.ipynb',\n",
       " '__pycache__',\n",
       " 'books.db',\n",
       " 'Assignment_7 Basic_Solutions.ipynb',\n",
       " 'Assignment _4 Basic_Solutions.ipynb',\n",
       " 'Untitled.ipynb',\n",
       " '.ipynb_checkpoints',\n",
       " 'Assignment_18 Basic_Solutions.ipynb',\n",
       " 'Assignment_11 Basic_Solutions.ipynb',\n",
       " 'today.txt',\n",
       " 'Assignment_13 Basic_Solutions.ipynb',\n",
       " 'books.csv',\n",
       " 'application_log.txt',\n",
       " 'student_records',\n",
       " 'Assignment_21 Basic_Solutions.ipynb',\n",
       " 'Assignment_19 Basic_Solution.ipynb']"
      ]
     },
     "execution_count": 5,
     "metadata": {},
     "output_type": "execute_result"
    }
   ],
   "source": [
    "import os \n",
    "os.listdir()"
   ]
  },
  {
   "cell_type": "markdown",
   "id": "b30294fc-8538-4d09-a1a8-3da9611fb269",
   "metadata": {},
   "source": [
    "#### 6. Use multiprocessing to create three separate processes. Make each one wait a random number of seconds between one and five, print the current time, and then exit."
   ]
  },
  {
   "cell_type": "code",
   "execution_count": 6,
   "id": "aba3846b-1032-4b6b-b0c2-ffe93d0b4f13",
   "metadata": {},
   "outputs": [
    {
     "name": "stdout",
     "output_type": "stream",
     "text": [
      "Proc_two_Starttime -> 2023-06-08 12:26:04.705813Proc_one_Starttime -> 2023-06-08 12:26:04.701870Proc_two_Starttime -> 2023-06-08 12:26:04.710763\n",
      "\n",
      "\n",
      "Proc_two_Endtime -> 2023-06-08 12:26:05.784101\n",
      "Proc_two_Endtime -> 2023-06-08 12:26:06.772352\n",
      "Proc_one_Endtime -> 2023-06-08 12:26:09.786158\n"
     ]
    }
   ],
   "source": [
    "import multiprocessing\n",
    "import time \n",
    "import random\n",
    "import datetime\n",
    "\n",
    "def procOne():\n",
    "    print(f'Proc_one_Starttime -> {datetime.datetime.now()}')\n",
    "    time.sleep(random.randint(1,5))\n",
    "    print(f'Proc_one_Endtime -> {datetime.datetime.now()}')\n",
    "    \n",
    "def procTwo():\n",
    "    print(f'Proc_two_Starttime -> {datetime.datetime.now()}')\n",
    "    time.sleep(random.randint(1,5))\n",
    "    print(f'Proc_two_Endtime -> {datetime.datetime.now()}')\n",
    "\n",
    "def procThree():\n",
    "    print(f'Proc_two_Starttime -> {datetime.datetime.now()}')\n",
    "    time.sleep(random.randint(1,5))\n",
    "    print(f'Proc_two_Endtime -> {datetime.datetime.now()}')\n",
    "    \n",
    "if __name__ == \"__main__\":    \n",
    "    p1 = multiprocessing.Process(target=procOne)\n",
    "    p2 = multiprocessing.Process(target=procTwo)\n",
    "    p3 = multiprocessing.Process(target=procThree)\n",
    "\n",
    "    p1.start()\n",
    "    p2.start()\n",
    "    p3.start()\n",
    "\n",
    "    p1.join()\n",
    "    p2.join()\n",
    "    p3.join()"
   ]
  },
  {
   "cell_type": "markdown",
   "id": "4f55ff7c-63ea-4f0e-ac9d-74e8a8208af6",
   "metadata": {},
   "source": [
    "#### 7. Create a date object of your day of birth."
   ]
  },
  {
   "cell_type": "code",
   "execution_count": 8,
   "id": "25fafba5-989a-4bc2-9f59-7bc67a2da656",
   "metadata": {},
   "outputs": [
    {
     "name": "stdout",
     "output_type": "stream",
     "text": [
      "2001-06-22 00:00:00 <class 'datetime.datetime'>\n"
     ]
    }
   ],
   "source": [
    "from datetime import datetime\n",
    "my_dob = datetime.strptime('22/06/2001','%d/%m/%Y')\n",
    "print(my_dob, type(my_dob))"
   ]
  },
  {
   "cell_type": "markdown",
   "id": "a26fe068-05d4-4544-88f8-a02b84343f3d",
   "metadata": {},
   "source": [
    "#### 8. What day of the week was your day of birth?\n"
   ]
  },
  {
   "cell_type": "code",
   "execution_count": 9,
   "id": "280c6195-ce8a-400a-8252-d166ccd0f4f7",
   "metadata": {},
   "outputs": [
    {
     "data": {
      "text/plain": [
       "'Friday'"
      ]
     },
     "execution_count": 9,
     "metadata": {},
     "output_type": "execute_result"
    }
   ],
   "source": [
    "from datetime import datetime\n",
    "my_dob = datetime(2001,6,22)\n",
    "my_dob.strftime(\"%A\")"
   ]
  },
  {
   "cell_type": "markdown",
   "id": "fb2aeea4-84a4-498f-bf46-8fd73eff292d",
   "metadata": {},
   "source": [
    "#### 9. When will you be (or when were you) 10,000 days old?"
   ]
  },
  {
   "cell_type": "code",
   "execution_count": 11,
   "id": "2d4892ca-71f4-4b64-a0c1-e704c62a1e9c",
   "metadata": {},
   "outputs": [
    {
     "data": {
      "text/plain": [
       "datetime.datetime(1974, 2, 4, 0, 0)"
      ]
     },
     "execution_count": 11,
     "metadata": {},
     "output_type": "execute_result"
    }
   ],
   "source": [
    "from datetime import datetime, timedelta\n",
    "my_dob = datetime.strptime(\"22/06/2001\",'%d/%m/%Y')\n",
    "future_date = my_dob-timedelta(10000)\n",
    "future_date"
   ]
  },
  {
   "cell_type": "code",
   "execution_count": null,
   "id": "0e1afb0f-2358-4801-abac-a41c9b4b7fff",
   "metadata": {},
   "outputs": [],
   "source": []
  }
 ],
 "metadata": {
  "kernelspec": {
   "display_name": "Python 3 (ipykernel)",
   "language": "python",
   "name": "python3"
  },
  "language_info": {
   "codemirror_mode": {
    "name": "ipython",
    "version": 3
   },
   "file_extension": ".py",
   "mimetype": "text/x-python",
   "name": "python",
   "nbconvert_exporter": "python",
   "pygments_lexer": "ipython3",
   "version": "3.10.6"
  }
 },
 "nbformat": 4,
 "nbformat_minor": 5
}
