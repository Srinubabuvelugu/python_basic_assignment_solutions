{
 "cells": [
  {
   "cell_type": "markdown",
   "id": "d786dfb5-e86d-48eb-8319-f6ef6f3a1a5f",
   "metadata": {},
   "source": [
    "#### 1. What advantages do Excel spreadsheets have over CSV spreadsheets?\n",
    "**Ans:** The Advantages of Excel over CSV are:\n",
    "\n",
    "- Excel (XLS and XLSX) file formats are better for storing and analysing complex data.\n",
    "- An Excel not only stores data but can also do operations on the data using macros, formulas etc\n",
    "- CSV files are plain-text files, Does not contain formatting, formulas, macros, etc. It is also known as flat files\n",
    "\n",
    " \n",
    "['name,department,birthday month']\n",
    "['John Smith,Accounting,November']\n",
    "['Erica Meyers,IT,March']\n",
    "\n",
    "\n",
    " \n",
    "\n"
   ]
  },
  {
   "cell_type": "markdown",
   "id": "d79f7db5-f20b-4c73-aaf4-dab63871db05",
   "metadata": {},
   "source": [
    "#### 2.What do you pass to csv.reader() and csv.writer() to create reader and writer objects?\n",
    " "
   ]
  },
  {
   "cell_type": "code",
   "execution_count": 5,
   "id": "cac1f17e-9407-45b1-981a-864afec04781",
   "metadata": {},
   "outputs": [
    {
     "name": "stdout",
     "output_type": "stream",
     "text": [
      "['Name', 'Branch', 'Year', 'CGPA']\n",
      "['Nikhil', 'COE', '2', '9.0']\n",
      "['Sanchit', 'COE', '2', '9.1']\n",
      "['Ravi', 'IT', '2', '9.3']\n"
     ]
    }
   ],
   "source": [
    "import csv\n",
    "with open('text.csv','r') as file:\n",
    "    csv_file = csv.reader(file,delimiter=',')\n",
    "    for ele in csv_file:\n",
    "        print(ele)"
   ]
  },
  {
   "cell_type": "markdown",
   "id": "1b01fafe-1fc1-436d-aa54-3e820e5d4f17",
   "metadata": {},
   "source": [
    "#### 3. What modes do File objects for reader and writer objects need to be opened in?\n",
    "**Ans:** For csv.reader(iterable_file_object), the file objects needed to be opened in read mode mode='r' Whereas for csv.writer(iterable_file_object) the file objects needed to be opened in write mode mode='w'\n"
   ]
  },
  {
   "cell_type": "markdown",
   "id": "39f94397-dad1-4f3f-9bbe-69dbb820aadb",
   "metadata": {},
   "source": [
    "#### 4. What method takes a list argument and writes it to a CSV file?\n",
    "**Ans:** csv.writer class provides two methods for writing to CSV. They are writerow() and writerows(). writerow() method writes a single row at a time. Whereas writerows() method is used to write multiple rows at a time.\n"
   ]
  },
  {
   "cell_type": "code",
   "execution_count": 7,
   "id": "cf2a631e-f9d0-4189-b769-16fa158b3f10",
   "metadata": {},
   "outputs": [],
   "source": [
    "fields = ['Name', 'Branch', 'Year', 'CGPA'] #column names \n",
    "rows = [ \n",
    "            ['Nikhil', 'COE', '2', '9.0'],  # data rows of csv file \n",
    "            ['Sanchit', 'COE', '2', '9.1'], \n",
    "            ['Ravi', 'IT', '2', '9.3']\n",
    "       ] \n",
    "with open(\"student_records.csv\", 'w') as csvfile: \n",
    "    csvwriter = csv.writer(csvfile) # creating a csv writer object \n",
    "    csvwriter.writerow(fields) # writing the fields \n",
    "    csvwriter.writerows(rows) # writing the data rows "
   ]
  },
  {
   "cell_type": "markdown",
   "id": "703e155b-f43e-4a58-ae4d-f14d2d278e8e",
   "metadata": {},
   "source": [
    "#### 5. What do the keyword arguments delimiter and line terminator do?\n",
    "**Ans:** Lets take the example of a csv file:<br>\n",
    "First Name, Last Name, Age<br>\n",
    "Srinu, Babu, 24<br>\n",
    "Babu, Mahi, 21<br>\n",
    "Here ',' is Delimiter. We can use any Character as per our needs if required. Similarly Line Terminator comes at end of line by default it is newline and can be changed accourding to Requirement."
   ]
  },
  {
   "cell_type": "markdown",
   "id": "25bb0ab0-4b2b-493d-9b43-6de67e4b1acb",
   "metadata": {},
   "source": [
    "#### 6. What function takes a string of JSON data and returns a Python data structure?\n",
    "**Ans:** loads() method takes a string of JSON data and returns a Python data structure"
   ]
  },
  {
   "cell_type": "code",
   "execution_count": 9,
   "id": "f1c72cd7-1145-483f-910e-f0fedd9480c0",
   "metadata": {},
   "outputs": [
    {
     "name": "stdout",
     "output_type": "stream",
     "text": [
      "{\n",
      "    \"Name\": \"Srinu Babu\",\n",
      "    \"Qualification\": \"Bachelor of Technology\",\n",
      "    \"Stream\": \"Electronics and communication\"\n",
      "}\n",
      "Type of my_details_json is <class 'str'>\n",
      "{'Name': 'Srinu Babu', 'Qualification': 'Bachelor of Technology', 'Stream': 'Electronics and communication'}\n",
      "Type of my_details is <class 'dict'>\n"
     ]
    }
   ],
   "source": [
    "import json\n",
    "my_details_json ='''{\n",
    "    \"Name\": \"Srinu Babu\",\n",
    "    \"Qualification\": \"Bachelor of Technology\",\n",
    "    \"Stream\": \"Electronics and communication\"\n",
    "}'''\n",
    "print(my_details_json)\n",
    "print(f'Type of my_details_json is {type(my_details_json)}')\n",
    "my_details = json.loads(my_details_json)\n",
    "print(my_details)\n",
    "print(f'Type of my_details is {type(my_details)}')"
   ]
  },
  {
   "cell_type": "markdown",
   "id": "027c918c-b520-4bec-a617-b337b7ed1170",
   "metadata": {},
   "source": [
    "#### 7. What function takes a Python data structure and returns a string of JSON data?\n",
    "**Ans:** dumps() method takes a python data structure and returns a string of JSON data"
   ]
  },
  {
   "cell_type": "code",
   "execution_count": 28,
   "id": "77e6c89b-75a0-4996-bd17-d3504caeb5b0",
   "metadata": {},
   "outputs": [
    {
     "name": "stdout",
     "output_type": "stream",
     "text": [
      "{'Name': 'Srinu Babu', 'Qualification': 'Bachelor of Technology', 'Stream': 'Electronics and communication'}\n",
      "Type of my_details is <class 'dict'>\n",
      "{\n",
      "    \"Name\": \"Srinu Babu\",\n",
      "    \"Qualification\": \"Bachelor of Technology\",\n",
      "    \"Stream\": \"Electronics and communication\"\n",
      "}\n",
      "Type of my_details_json is <class 'str'>\n"
     ]
    }
   ],
   "source": [
    "import json\n",
    "my_details_json ={\n",
    "    \"Name\": \"Srinu Babu\",\n",
    "    \"Qualification\": \"Bachelor of Technology\",\n",
    "    \"Stream\": \"Electronics and communication\"\n",
    "}\n",
    "print(my_details)\n",
    "print(f'Type of my_details is {type(my_details)}')\n",
    "my_details_json = json.dumps(my_details, indent=4,sort_keys=True)\n",
    "print(my_details_json)\n",
    "print(f'Type of my_details_json is {type(my_details_json)}')"
   ]
  },
  {
   "cell_type": "code",
   "execution_count": null,
   "id": "3a4f797d-edd1-4a07-9547-dca6e9b6b980",
   "metadata": {},
   "outputs": [],
   "source": []
  }
 ],
 "metadata": {
  "kernelspec": {
   "display_name": "Python 3 (ipykernel)",
   "language": "python",
   "name": "python3"
  },
  "language_info": {
   "codemirror_mode": {
    "name": "ipython",
    "version": 3
   },
   "file_extension": ".py",
   "mimetype": "text/x-python",
   "name": "python",
   "nbconvert_exporter": "python",
   "pygments_lexer": "ipython3",
   "version": "3.10.6"
  }
 },
 "nbformat": 4,
 "nbformat_minor": 5
}
