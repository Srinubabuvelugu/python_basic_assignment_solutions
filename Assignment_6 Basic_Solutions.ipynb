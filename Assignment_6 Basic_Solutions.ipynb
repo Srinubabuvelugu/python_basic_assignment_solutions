{
 "cells": [
  {
   "cell_type": "markdown",
   "id": "9e5fbf9c-2550-40a6-a0d0-6c7c1204162e",
   "metadata": {},
   "source": [
    "#### 1.What are Escape characters ? and how do you use them ?\n",
    "Ans: Escape characters represent characters in string values that would otherwise be difficult or impossible to type into code. we can use the backslash character to escape a single character or symbol\n",
    "- example: \\t, \\n"
   ]
  },
  {
   "cell_type": "markdown",
   "id": "d4b44e84-65e1-4aad-9cd3-5007624e903d",
   "metadata": {},
   "source": [
    "#### 2.What do the escape characters n and t stand for ?\n",
    "Ans: \\n is fpr  newline and  \\t is for tab."
   ]
  },
  {
   "cell_type": "markdown",
   "id": "a00dfd63-c4c8-4b2a-bd86-9f4fd25b5a9f",
   "metadata": {},
   "source": [
    "#### 3.What is the way to include backslash character in a string?\n",
    "Ans: The \" \\\\\\ \" escape character will represent the backslash character in a string."
   ]
  },
  {
   "cell_type": "markdown",
   "id": "f2421fee-43c5-411a-aab0-6964a1e3e11f",
   "metadata": {},
   "source": [
    "#### 4.The string \"Howl's Moving Castle\" is a correct value. Why isn't the single quote character in the word Howl's not escaped a problem ?\n",
    "Ans: The string \"Howl's Moving Castle\" escaped the problem because it is wrapped inside double quotes. if its wrapped inside single quotes then we have to use escape character \\' to show single quote in the final output\n",
    "- 'Howl\\'s Moving Castle' -> 'Howl's Moving Castle'"
   ]
  },
  {
   "cell_type": "markdown",
   "id": "e49fffe1-bb55-4221-86aa-a7769b5ff775",
   "metadata": {},
   "source": [
    "#### 5.How do you write a string of newlines if you don't want to use the n character?\n",
    "Ans: Multiline string allow you to use newlines in string without the \\n escape character."
   ]
  },
  {
   "cell_type": "code",
   "execution_count": 1,
   "id": "868e20af-954c-47ff-9cf6-9045349315d7",
   "metadata": {},
   "outputs": [
    {
     "name": "stdout",
     "output_type": "stream",
     "text": [
      "iNeuron full stack\n",
      "Data Science Course\n"
     ]
    }
   ],
   "source": [
    "a = \"\"\"iNeuron full stack\n",
    "Data Science Course\"\"\"\n",
    "print(a)"
   ]
  },
  {
   "cell_type": "markdown",
   "id": "86ad8597-74ce-43dc-9cb0-70cd2c835971",
   "metadata": {},
   "source": [
    "#### 6.What are the values of the given expressions ?\n",
    "'Hello, world!'[1] <br>\n",
    "'Hello, world!'[0:5] <br>\n",
    "'Hello, world!'[:5] <br>\n",
    "'Hello, world!'[3:] <br>"
   ]
  },
  {
   "cell_type": "code",
   "execution_count": 7,
   "id": "ae1f02ae-a7e3-4c70-a59c-e4cdf2d1b296",
   "metadata": {},
   "outputs": [
    {
     "name": "stdout",
     "output_type": "stream",
     "text": [
      "e\n",
      "Hello\n",
      "Hello\n",
      "lo, world!\n"
     ]
    }
   ],
   "source": [
    "#Ans: \n",
    "print('Hello, world!'[1])\n",
    "print('Hello, world!'[0:5])\n",
    "print('Hello, world!'[:5])\n",
    "print('Hello, world!'[3:])"
   ]
  },
  {
   "cell_type": "markdown",
   "id": "efe55adf-d3a9-4e4a-a3b6-e1be0904c31c",
   "metadata": {},
   "source": [
    "#### 7.What are the values of the following expressions ?\n",
    "- 'Hello'.upper()\n",
    "- 'Hello'.upper().isupper()\n",
    "- 'Hello'.upper().lower()\n",
    " "
   ]
  },
  {
   "cell_type": "markdown",
   "id": "9bbdbfd3-996d-4468-a3a1-b96b601a70bc",
   "metadata": {},
   "source": [
    "**Ans:**"
   ]
  },
  {
   "cell_type": "code",
   "execution_count": 9,
   "id": "5480edeb-064a-4495-b957-cf9d7dd6ba9e",
   "metadata": {},
   "outputs": [
    {
     "name": "stdout",
     "output_type": "stream",
     "text": [
      "HELLO\n",
      "True\n",
      "hello\n"
     ]
    }
   ],
   "source": [
    "print('Hello'.upper())\n",
    "print('Hello'.upper().isupper())\n",
    "print('Hello'.upper().lower())"
   ]
  },
  {
   "cell_type": "markdown",
   "id": "3eef3fd2-a41e-468c-9167-218f06719480",
   "metadata": {},
   "source": [
    "#### 8.What are the values of the following expressions ?\n",
    "'Remember, remember, the fifith of July.'.split() <br> -'.join('There can only one'.split())"
   ]
  },
  {
   "cell_type": "markdown",
   "id": "bf87322a-594d-4ea6-a715-9cfce155722e",
   "metadata": {},
   "source": [
    "Ans: The values for the given expressions are:\n",
    "'Remember, remember, the fifith of July.'.split() -> ['Remember,', 'remember,', 'the', 'fifith', 'of', 'July.']\n",
    "'-'.join('There can only one'.split()) -> 'There-can-only-one'"
   ]
  },
  {
   "cell_type": "markdown",
   "id": "d87122fa-8988-4a14-881b-697e131cb5e5",
   "metadata": {},
   "source": [
    "#### 9.What are the methods for right-justifying, left-justifying and centering a string ?\n",
    "Ans: The rjust(),ljust(),center() string methods, respectively"
   ]
  },
  {
   "cell_type": "markdown",
   "id": "c90d781d-89d4-472d-9380-27e98284cbae",
   "metadata": {},
   "source": [
    "#### 10.What is the best way to remove whitespace characters from the start or end ?\n",
    "Ans: The lstrip() and rstrip() methods remove whitesapce characters from the left and right ends of a string respectively"
   ]
  },
  {
   "cell_type": "code",
   "execution_count": null,
   "id": "92ab36d4-bc0f-4802-bbdf-ef0158f357c4",
   "metadata": {},
   "outputs": [],
   "source": []
  }
 ],
 "metadata": {
  "kernelspec": {
   "display_name": "Python 3 (ipykernel)",
   "language": "python",
   "name": "python3"
  },
  "language_info": {
   "codemirror_mode": {
    "name": "ipython",
    "version": 3
   },
   "file_extension": ".py",
   "mimetype": "text/x-python",
   "name": "python",
   "nbconvert_exporter": "python",
   "pygments_lexer": "ipython3",
   "version": "3.10.6"
  }
 },
 "nbformat": 4,
 "nbformat_minor": 5
}
