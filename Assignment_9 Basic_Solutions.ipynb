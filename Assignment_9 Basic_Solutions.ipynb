{
 "cells": [
  {
   "cell_type": "markdown",
   "id": "aaef2236-e7c1-46a7-855d-244d60d82a2f",
   "metadata": {},
   "source": [
    "#### 1.To what does a relative path refer ?\n",
    "**Ans:** The relative path is the path to some file with respect to your current working directory (PWD).\n",
    "For example: if Absolute path to a file called stuff.txt is: C:/users/admin/docs/stuff.txt If my PWD is C:/users/admin/ , then the relative path to stuff.txt would be: docs/stuff.txt\n",
    "Note: PWD + relative path = absolute path\n",
    " "
   ]
  },
  {
   "cell_type": "markdown",
   "id": "a83976e6-5e1a-4d65-95fa-421e5d1ba164",
   "metadata": {},
   "source": [
    "#### 2.Where does an absolute path start with your Operating System ?\n",
    "**Ans:** In Linux based systems the absolute path starts with /. Where as in Windows based systems absolute path starts with C:"
   ]
  },
  {
   "cell_type": "markdown",
   "id": "23d66886-7038-433e-b0aa-e58e7f2bede2",
   "metadata": {},
   "source": [
    "#### 3.What does the functions os.getcwd() and os.chdir() do ?\n",
    "**Ans:** os.getcwd() method tells us the location of current working directory (CWD). Where as os.chdir() method in Python used to change the current working directory to specified path. These functions are similar to linux commands pwd and cd"
   ]
  },
  {
   "cell_type": "markdown",
   "id": "49f4704d-b302-4b93-ae6d-bb3a9239aae5",
   "metadata": {},
   "source": [
    "#### 4.What are . and .. folders ?\n",
    "**Ans:** . Represents the Current Directory Whereas .. Represents the Parent Directory of the Current Directory\n",
    " \n"
   ]
  },
  {
   "cell_type": "markdown",
   "id": "b97cfbe6-5e2b-4aa5-b235-e9619616957d",
   "metadata": {},
   "source": [
    "#### 5.In C:\\bacon\\eggs\\spam.txt which part is the dir name and which part is the base name ?\n",
    "**Ans:** For C:\\bacon\\eggs\\spam.txt\n",
    "The dir name is C:\\\\bacon\\\\eggs<br>\n",
    "The Base name is spam.txt"
   ]
  },
  {
   "cell_type": "markdown",
   "id": "755a09d0-5954-4f78-87ce-9b548a0e89db",
   "metadata": {},
   "source": [
    "#### 6.What are the three mode arguments that can be passed to the open() function ?\n",
    "**Ans:** A file can be Accessed in python using open() function. open function takes two arguments filename and mode of operation (optional). if mode is not provided the default mode of opening is read mode\n",
    "So, the syntax being: open(filename, mode)\n",
    "\n",
    "- ‘r’ – Read Mode: This is the default mode for open(). The file is opened and a pointer is positioned at the beginning of the file’s content.\n",
    "- ‘w’ – Write Mode: Using this mode will overwrite any existing content in a file. If the given file does not exist, a new one will be created.\n",
    "- ‘r+’ – Read/Write Mode: Use this mode if you need to simultaneously read and write to a file.\n",
    "- ‘a’ – Append Mode: With this mode the user can append the data without overwriting any already existing data in the file.\n",
    "- ‘a+’ – Append and Read Mode: In this mode you can read and append the data without overwriting the original file.\n",
    "- ‘x’ – Exclusive Creating Mode: This mode is for the sole purpose of creating new files. Use this mode if you know the file to be written doesn’t exist beforehand.\n",
    "\n",
    "\n",
    "\n",
    "\n"
   ]
  },
  {
   "cell_type": "markdown",
   "id": "4cdd7f43-89c2-4a2d-ad99-cce2d89844d7",
   "metadata": {},
   "source": [
    "#### 7.What happens if an existing file is opened in write mode ?\n",
    "**Ans:** Using this mode will overwrite any existing content in a file. If the given file does not exist, a new one will be created."
   ]
  },
  {
   "cell_type": "markdown",
   "id": "8e25a6be-eb15-4120-a070-6b1b7730f034",
   "metadata": {},
   "source": [
    "#### 8.How do you tell the difference between read() and readlines() ?\n",
    "**Ans:** The main difference is that read() will read the whole file at once and then print out the first characters that take up as many bytes as you specify in the parenthesis\n",
    "- Whereas the readline() that will read and print out only the first characters that take up as many bytes as you specify in the parenthesis. You may want to use readline() when you're reading files that are too big for your RAM.\n",
    "- The read() would treat each character in the file separately, meaning that the iteration would happen for every character.\n",
    "- The readline() function, on the other hand, only reads a single line of the file. This means that if the first line of the file were three lines long, the readline() function would only parse (or iterate/operate) on the first line of the file.\n"
   ]
  },
  {
   "cell_type": "markdown",
   "id": "a26d7f81-0bb1-45bf-b5dd-c33fc5b0a181",
   "metadata": {},
   "source": [
    "#### 9.What data structure does a shelf value resemble ?\n",
    "**Ans:** it contains key and values it represents dictionary."
   ]
  },
  {
   "cell_type": "code",
   "execution_count": null,
   "id": "a03232ba-62fb-47e3-839d-be65f28abf2e",
   "metadata": {},
   "outputs": [],
   "source": []
  }
 ],
 "metadata": {
  "kernelspec": {
   "display_name": "Python 3 (ipykernel)",
   "language": "python",
   "name": "python3"
  },
  "language_info": {
   "codemirror_mode": {
    "name": "ipython",
    "version": 3
   },
   "file_extension": ".py",
   "mimetype": "text/x-python",
   "name": "python",
   "nbconvert_exporter": "python",
   "pygments_lexer": "ipython3",
   "version": "3.10.6"
  }
 },
 "nbformat": 4,
 "nbformat_minor": 5
}
