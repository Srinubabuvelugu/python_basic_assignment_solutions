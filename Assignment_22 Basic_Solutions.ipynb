{
 "cells": [
  {
   "cell_type": "markdown",
   "id": "dadf8d13-d24e-4647-b76a-cbc7021f5661",
   "metadata": {},
   "source": [
    "#### 1. What is the result of the code, and explain?\n",
    "` X = 'iNeuron'` <br>\n",
    "`def func():`<br>\n",
    "`     print(X)`  <br> \n",
    "`func()`<br>\n",
    "**Ans:** The Result of this code is iNeuron, it's because the function intially looks for the variable X in its local scope,But since there is no local variable X, its returns the value of global variable x ie iNeuron"
   ]
  },
  {
   "cell_type": "code",
   "execution_count": 1,
   "id": "dd5961e1-9029-44b1-b44a-c456d38d62bd",
   "metadata": {},
   "outputs": [
    {
     "name": "stdout",
     "output_type": "stream",
     "text": [
      "iNeuron\n"
     ]
    }
   ],
   "source": [
    "X = 'iNeuron'\n",
    "def func():\n",
    "    print(X)\n",
    "func()"
   ]
  },
  {
   "cell_type": "markdown",
   "id": "2ae216eb-ac66-4ebe-8e81-ce24b7578a84",
   "metadata": {},
   "source": [
    "#### 2. What is the result of the code, and explain?\n",
    "`>>> X = 'iNeuron' `<br>\n",
    "`>>> def func():`<br>\n",
    "`    X = 'NI!'`<br>\n",
    "`>>> func()`<br>\n",
    "`>>> print(X)`<br>\n",
    "**Ans:** The Result of this cide is NI!, because the function initially looks for the variable X in its local scope if X is not available then it checks for variable X in the global scope, Since here the X is present in the local scope. it prints the value NI!"
   ]
  },
  {
   "cell_type": "code",
   "execution_count": 1,
   "id": "400c3b8b-b90e-4335-bc92-af3b8b0138e4",
   "metadata": {},
   "outputs": [
    {
     "name": "stdout",
     "output_type": "stream",
     "text": [
      "iNeuron\n"
     ]
    }
   ],
   "source": [
    "x='iNeuron'\n",
    "def func():\n",
    "    x='NI!'\n",
    "func()\n",
    "o=print(x)"
   ]
  },
  {
   "cell_type": "markdown",
   "id": "1414df5b-20c8-4510-b08f-ffd2b4a60b8e",
   "metadata": {},
   "source": [
    "#### 3. What does this code print, and why?\n",
    "`>>> X = 'iNeuron'`<br>\n",
    "`>>> def func():`<br>\n",
    "`    X = 'NI'`<br>\n",
    "`    print(X)`<br>\n",
    "`>>> func()`<br>\n",
    "`>>> print(X)`<br>\n",
    "**Ans:** The output of the code is NI and iNeuron. X=NI is in the local scope of the function func() hence the function prints the x value as NI. X = 'iNeuron' is in the global scope. hence print(X) prints output as iNeuron"
   ]
  },
  {
   "cell_type": "code",
   "execution_count": 2,
   "id": "d5de654b-b0f3-4b21-83d2-903c24015439",
   "metadata": {},
   "outputs": [
    {
     "name": "stdout",
     "output_type": "stream",
     "text": [
      "NI\n",
      "iNeuron\n"
     ]
    }
   ],
   "source": [
    " X = 'iNeuron'\n",
    "def func():\n",
    "    X = 'NI'\n",
    "    print(X)\n",
    "func()\n",
    "print(X)"
   ]
  },
  {
   "cell_type": "markdown",
   "id": "0af3da1e-8b5e-4fed-ac99-97c60da58e9c",
   "metadata": {},
   "source": [
    "#### 4. What output does this code produce? Why?\n",
    "`>>> X = 'iNeuron'`<br>\n",
    "`>>> def func():`<br>\n",
    "`    global X`<br>\n",
    "`    X = 'NI'`<br>\n",
    "`>>> func()`<br>\n",
    "`>>> print(X)`<br>\n",
    "**Ans:** The output of the code is NI. the global keyword allows a variable to be accessible in the current scope. since we are using global keyword inside the function func it directly access the variable in X in global scope. and changes its value to NI. hence the output of the code is NI"
   ]
  },
  {
   "cell_type": "code",
   "execution_count": 3,
   "id": "f7076ff2-315e-4eb3-894f-638996a97a79",
   "metadata": {},
   "outputs": [
    {
     "name": "stdout",
     "output_type": "stream",
     "text": [
      "NI\n"
     ]
    }
   ],
   "source": [
    "X = 'iNeuron'\n",
    "def func():\n",
    "    global X\n",
    "    X = 'NI'\n",
    "func()\n",
    "print(X)"
   ]
  },
  {
   "cell_type": "markdown",
   "id": "d70d4605-ed83-4833-a755-6e366567756d",
   "metadata": {},
   "source": [
    "#### 5. What about this code—what’s the output, and why?\n",
    "`>>> X = 'iNeuron'`<br>\n",
    "`>>> def func():`<br>\n",
    "`    X = 'NI'`<br>\n",
    "`    def nested():`<br>\n",
    "`        print(X)`<br>\n",
    "`    nested()`<br>\n",
    "`>>> func()`<br>\n",
    "`>>> X`<br>\n",
    "**Ans:** The output of the code is NI. the reason for this output is if a function wants to access a variable, if its not available in its localscope. it looks for the variable in its global scope. similarly here also function nested looks for variable X in its global scope. hence the output of the code is NI\n",
    "\n",
    " "
   ]
  },
  {
   "cell_type": "code",
   "execution_count": 6,
   "id": "f309a20d-10f9-4f52-925f-35cd062ed6ce",
   "metadata": {},
   "outputs": [
    {
     "name": "stdout",
     "output_type": "stream",
     "text": [
      "NI\n"
     ]
    },
    {
     "data": {
      "text/plain": [
       "'iNeuron'"
      ]
     },
     "execution_count": 6,
     "metadata": {},
     "output_type": "execute_result"
    }
   ],
   "source": [
    "X = 'iNeuron'\n",
    "def func():\n",
    "    X = 'NI'\n",
    "    def nested():\n",
    "        print(X)\n",
    "    nested()\n",
    "func()\n",
    "X"
   ]
  },
  {
   "cell_type": "markdown",
   "id": "20b25c64-41b9-4120-a2ca-af08ac523800",
   "metadata": {},
   "source": [
    "#### 6. How about this code: what is its output in Python 3, and explain?\n",
    "`>>> def func():`<br>\n",
    "`    X = 'NI'`<br>\n",
    "`    def nested():`<br>\n",
    "`        nonlocal X`<br>\n",
    "`        X = 'Spam'`<br>\n",
    "`    nested()`<br>\n",
    "`    print(X)`<br>\n",
    "`>>> func()`<br>\n",
    "**Ans:** The output of the code is Spam. nonlocal keyword in python is used to declare a variable as not local.Hence the statement X = \"Spam\" is modified in the global scope. hence the output of print(X) statement is Spam"
   ]
  },
  {
   "cell_type": "code",
   "execution_count": 7,
   "id": "b0a01e3f-0065-4e3a-b820-d59d30bfafd4",
   "metadata": {},
   "outputs": [
    {
     "name": "stdout",
     "output_type": "stream",
     "text": [
      "Spam\n"
     ]
    }
   ],
   "source": [
    "def func():\n",
    "    X = 'NI'\n",
    "    def nested():\n",
    "        nonlocal X\n",
    "        X = 'Spam'\n",
    "    nested()\n",
    "    print(X)\n",
    "func()"
   ]
  },
  {
   "cell_type": "code",
   "execution_count": null,
   "id": "aee2a73b-17fe-4a46-944e-187bf9ff8dc5",
   "metadata": {},
   "outputs": [],
   "source": []
  }
 ],
 "metadata": {
  "kernelspec": {
   "display_name": "Python 3 (ipykernel)",
   "language": "python",
   "name": "python3"
  },
  "language_info": {
   "codemirror_mode": {
    "name": "ipython",
    "version": 3
   },
   "file_extension": ".py",
   "mimetype": "text/x-python",
   "name": "python",
   "nbconvert_exporter": "python",
   "pygments_lexer": "ipython3",
   "version": "3.10.6"
  }
 },
 "nbformat": 4,
 "nbformat_minor": 5
}
